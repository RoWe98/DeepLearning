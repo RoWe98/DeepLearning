{
 "cells": [
  {
   "cell_type": "code",
   "execution_count": 2,
   "metadata": {},
   "outputs": [
    {
     "data": {
      "text/plain": [
       "<tf.Tensor: shape=(3,), dtype=float32, numpy=array([0.6590012 , 0.24243298, 0.09856589], dtype=float32)>"
      ]
     },
     "execution_count": 2,
     "metadata": {},
     "output_type": "execute_result"
    }
   ],
   "source": [
    "# 常见网络类层\n",
    "# 在tf.keras.layers命名空间中提供了许多大量的常见网络层的类,\n",
    "# 例如 全连接层、激活函数层、池化层、卷积层、循环神经网络层等\n",
    "# 对于这些网络层类只需要创建时指定相关参数，并且调用__call__方法即可完成向前计算\n",
    "# 在__call__方法中，Keras会自动调用每个层的向前传播逻辑，这些逻辑一般实现在类的call函数中\n",
    "\n",
    "# 搭建Softmax层 利用tf.nn.softmax和利用layers.Soiftmax(axis)类搭建，axis为指定Softmax的维度\n",
    "\n",
    "import tensorflow as tf\n",
    "# 导入keras模型\n",
    "from tensorflow import keras\n",
    "from tensorflow.keras import layers # 导入常见网络层类\n",
    "# 创建Softmax层\n",
    "x = tf.constant([2.,1.,0.1]) # 创建输入张量\n",
    "layer = layers.Softmax(axis=-1) # 创建Softmax层\n",
    "out = layer(x)\n",
    "out"
   ]
  },
  {
   "cell_type": "code",
   "execution_count": 3,
   "metadata": {},
   "outputs": [
    {
     "data": {
      "text/plain": [
       "<tf.Tensor: shape=(3,), dtype=float32, numpy=array([0.6590012 , 0.24243298, 0.09856589], dtype=float32)>"
      ]
     },
     "execution_count": 3,
     "metadata": {},
     "output_type": "execute_result"
    }
   ],
   "source": [
    "# 利用tf.nn.softmax()函数完成计算\n",
    "out = tf.nn.softmax(x) # 调用softmax函数完成向前计算\n",
    "out "
   ]
  },
  {
   "cell_type": "code",
   "execution_count": null,
   "metadata": {},
   "outputs": [],
   "source": [
    "###########################################################################################################"
   ]
  },
  {
   "cell_type": "code",
   "execution_count": 9,
   "metadata": {},
   "outputs": [
    {
     "data": {
      "text/plain": [
       "<tf.Tensor: shape=(4, 2), dtype=float32, numpy=\n",
       "array([[0.      , 0.      ],\n",
       "       [0.      , 0.      ],\n",
       "       [0.      , 0.      ],\n",
       "       [0.      , 0.728432]], dtype=float32)>"
      ]
     },
     "execution_count": 9,
     "metadata": {},
     "output_type": "execute_result"
    }
   ],
   "source": [
    "# 网络容器\n",
    "# 当网络层数变得非常多的时候可以利用网络容器Sequential将多个网络层封装成一个\n",
    "# 大网络模型，只需要调用网络模型的实例一次即可完成数据从第一层到最末层的顺序传播运算。\n",
    "# 导入Sequential容器\n",
    "from tensorflow.keras import layers, Sequential\n",
    "network = Sequential([ # 封装成一个网络\n",
    "    layers.Dense(3, activation=None), # 全连接层，此处不使用激活函数\n",
    "    layers.ReLU(), # 激活函数层\n",
    "    layers.Dense(2, activation=None), # 全连接层，此处不适用激活函数\n",
    "    layers.ReLU(), # 激活函数层\n",
    "])\n",
    "x = tf.random.normal([4, 3])\n",
    "out = network(x) # 输入从第一层开始， 逐层传播至输出层，并返回输出层的输出\n",
    "out"
   ]
  },
  {
   "cell_type": "code",
   "execution_count": null,
   "metadata": {},
   "outputs": [],
   "source": [
    "# 利用add方法添加新的网络层，实现动态创建网络的功能\n",
    "layers_num = 2 # 堆叠两次\n",
    "network = Sequential([]) # 先创建空的网络容器"
   ]
  }
 ],
 "metadata": {
  "kernelspec": {
   "display_name": "Python 3",
   "language": "python",
   "name": "python3"
  },
  "language_info": {
   "codemirror_mode": {
    "name": "ipython",
    "version": 3
   },
   "file_extension": ".py",
   "mimetype": "text/x-python",
   "name": "python",
   "nbconvert_exporter": "python",
   "pygments_lexer": "ipython3",
   "version": "3.6.2"
  }
 },
 "nbformat": 4,
 "nbformat_minor": 4
}
